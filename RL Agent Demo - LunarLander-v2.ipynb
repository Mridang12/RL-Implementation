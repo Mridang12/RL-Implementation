{
 "cells": [
  {
   "cell_type": "code",
   "execution_count": 1,
   "id": "f6354398",
   "metadata": {},
   "outputs": [],
   "source": [
    "from DQNAgent import Experience, ExperienceReplay, Net, DQNAgent\n",
    "import numpy as np\n",
    "from time import sleep"
   ]
  },
  {
   "cell_type": "code",
   "execution_count": 2,
   "id": "fce079fc",
   "metadata": {},
   "outputs": [],
   "source": [
    "from datetime import datetime\n",
    "import os\n",
    "dt = datetime.now()\n",
    "directory = f\"LunarLander_results/result-{dt.strftime('%m-%d-%Y_%H-%M-%S')}\"\n",
    "os.mkdir(directory)"
   ]
  },
  {
   "cell_type": "code",
   "execution_count": 3,
   "id": "848db99c",
   "metadata": {
    "scrolled": true
   },
   "outputs": [
    {
     "name": "stdout",
     "output_type": "stream",
     "text": [
      "Discrete(4)\n"
     ]
    },
    {
     "name": "stderr",
     "output_type": "stream",
     "text": [
      "C:\\Users\\mrida\\anaconda3\\lib\\site-packages\\gym\\wrappers\\monitor.py:31: UserWarning: The Monitor wrapper is being deprecated in favor of gym.wrappers.RecordVideo and gym.wrappers.RecordEpisodeStatistics (see https://github.com/openai/gym/issues/2297)\n",
      "  warnings.warn(\n"
     ]
    }
   ],
   "source": [
    "import gym\n",
    "train_dir = directory+'/'+'training'\n",
    "os.mkdir(directory+'/'+'training')\n",
    "env = gym.make('LunarLander-v2')\n",
    "env = gym.wrappers.Monitor(env, train_dir, video_callable=lambda episode_id: episode_id % 200 == 0,force=True)\n",
    "print(env.action_space)"
   ]
  },
  {
   "cell_type": "code",
   "execution_count": 4,
   "id": "881527c1",
   "metadata": {},
   "outputs": [
    {
     "name": "stdout",
     "output_type": "stream",
     "text": [
      "1\n"
     ]
    }
   ],
   "source": [
    "print(env.action_space.sample())"
   ]
  },
  {
   "cell_type": "code",
   "execution_count": 5,
   "id": "c601199b",
   "metadata": {},
   "outputs": [],
   "source": [
    "#Change hyperparameters here\n",
    "agent = DQNAgent(layerSizes=[len(env.reset()), 64, 64, env.action_space.n],\n",
    "                epsilon=1, eps_decay=0.995,min_eps=0.01, batch_size=64, discount_fact=0.99, \n",
    "                 lr=0.0005, num_actions=env.action_space.n, target_update_freq=10000, mem_size = 100000,\n",
    "                    update_freq = 4, start_training_after=1)"
   ]
  },
  {
   "cell_type": "code",
   "execution_count": 6,
   "id": "438d4028",
   "metadata": {
    "scrolled": true
   },
   "outputs": [
    {
     "name": "stdout",
     "output_type": "stream",
     "text": [
      "0.6057704364907278\n",
      "\n",
      "Avg score 100 episode = -164.86119052335232\n",
      "\n",
      "0.3669578217261671\n",
      "\n",
      "Avg score 200 episode = -102.29244210938248\n",
      "\n",
      "0.22229219984074702\n",
      "\n",
      "Avg score 300 episode = -59.642546718880084\n",
      "\n",
      "0.1346580429260134\n",
      "\n",
      "Avg score 400 episode = -45.52608938408096\n",
      "\n",
      "0.08157186144027828\n",
      "\n",
      "Avg score 500 episode = -34.41092177165817\n",
      "\n",
      "0.0494138221100385\n",
      "\n",
      "Avg score 600 episode = 1.1895292899316376\n",
      "\n",
      "0.029933432588273214\n",
      "\n",
      "Avg score 700 episode = 65.64722135715921\n",
      "\n",
      "0.018132788524664028\n",
      "\n",
      "Avg score 800 episode = 135.92339599277588\n",
      "\n",
      "0.01098430721937979\n",
      "\n",
      "Avg score 900 episode = 158.11686177594584\n",
      "\n",
      "0.01\n",
      "\n",
      "Avg score 1000 episode = 158.4931921728984\n",
      "\n",
      "0.01\n",
      "\n",
      "Avg score 1100 episode = 123.270425260567\n",
      "\n",
      "0.01\n",
      "\n",
      "Avg score 1200 episode = 155.71889031416208\n",
      "\n",
      "0.01\n",
      "\n",
      "Avg score 1300 episode = 169.85845720948095\n",
      "\n"
     ]
    }
   ],
   "source": [
    "action=0\n",
    "i_episode = 0\n",
    "last_n_scores = [0]\n",
    "progress = []\n",
    "running = []\n",
    "scores = []\n",
    "done = False\n",
    "n = 100\n",
    "avg_score_per_n = 0\n",
    "while np.mean(last_n_scores) < 200:\n",
    "    \n",
    "    i_episode += 1\n",
    "    state = env.reset()\n",
    "    score = 0\n",
    "    agent.loss_val = 0\n",
    "    running = []\n",
    "    t = 0\n",
    "    while True:\n",
    "        t += 1\n",
    "        action = agent.getAction(state)\n",
    "        n_state, reward, done, info = env.step(action)\n",
    "        score += reward\n",
    "        agent.step(state, action, reward, n_state, int(done))\n",
    "        running.append(action)\n",
    "        state = n_state\n",
    "        \n",
    "        if done:\n",
    "#             print(agent.epsilon)\n",
    "#             print(agent.loss_val/t)\n",
    "#             print(score)\n",
    "#             print(f\"{i_episode} Episode finished after {t} timesteps\")\n",
    "            if len(last_n_scores) == n:\n",
    "                last_n_scores.pop(0)\n",
    "            last_n_scores.append(score)\n",
    "            if i_episode % 250 == 0:\n",
    "                progress.append(running)\n",
    "            break\n",
    "    avg_score_per_n += score\n",
    "    if i_episode % n == 0:\n",
    "        scores.append(avg_score_per_n/n)\n",
    "        print(agent.epsilon)\n",
    "        print(f'\\nAvg score {i_episode} episode = {avg_score_per_n/n}\\n')\n",
    "        avg_score_per_n = 0\n",
    "progress.append(running)\n",
    "env.close()"
   ]
  },
  {
   "cell_type": "code",
   "execution_count": 11,
   "id": "776a68ca",
   "metadata": {
    "scrolled": true
   },
   "outputs": [
    {
     "name": "stdout",
     "output_type": "stream",
     "text": [
      "340\n",
      "313\n",
      "237\n",
      "299\n",
      "365\n",
      "248\n",
      "240\n",
      "184\n",
      "1000\n",
      "248\n",
      " Mean score = 263.53447515975273\n",
      " Mean timesteps = 347.4\n"
     ]
    }
   ],
   "source": [
    "play_dir = directory+'/'+'play'\n",
    "# os.mkdir(play_dir)\n",
    "env = gym.make('LunarLander-v2')\n",
    "env = gym.wrappers.Monitor(env, play_dir, video_callable=lambda episode_id: True,force=True)\n",
    "\n",
    "action=0\n",
    "agent.epsilon = 0\n",
    "scores = []\n",
    "time = []\n",
    "for i_episode in range(10):\n",
    "    state = env.reset()\n",
    "    score = 0\n",
    "    t = 0\n",
    "    #env is limited to 200 timesteps by default so range(>200 is fine)\n",
    "    while True:\n",
    "        t+= 1\n",
    "        env.render()\n",
    "        action = agent.getAction(state)\n",
    "        n_state, reward, done, info = env.step(action)\n",
    "        sleep(0.008) #Limit to 60 FPS\n",
    "        state = n_state\n",
    "        score += reward\n",
    "        if done:\n",
    "            scores.append(score)\n",
    "            print(t)\n",
    "            time.append(t)\n",
    "            break\n",
    "print(f' Mean score = {np.mean(score)}')\n",
    "print(f' Mean timesteps = {np.mean(time)}')\n",
    "env.close()"
   ]
  },
  {
   "cell_type": "code",
   "execution_count": 8,
   "id": "16d687a3",
   "metadata": {},
   "outputs": [],
   "source": [
    "##USE THIS CELL TO SAVE TRAINED AGENT\n",
    "\n",
    "import pickle\n",
    "from datetime import datetime\n",
    "dt = datetime.now()\n",
    "\n",
    "with open(f'{train_dir}/RL-LunarLander-{dt.strftime(\"%m%d%Y%H%M%S\")}.pkl', 'wb') as outp:\n",
    "    pickle.dump(agent, outp, pickle.HIGHEST_PROTOCOL)\n",
    "\n",
    "with open(f'{train_dir}/RL-LunarLander-progress{dt.strftime(\"%m%d%Y%H%M%S\")}.pkl', 'wb') as outp:\n",
    "    pickle.dump(progress, outp, pickle.HIGHEST_PROTOCOL)\n",
    "\n"
   ]
  },
  {
   "cell_type": "code",
   "execution_count": 9,
   "id": "5fdb64fd",
   "metadata": {},
   "outputs": [
    {
     "data": {
      "text/plain": [
       "100000.0"
      ]
     },
     "execution_count": 9,
     "metadata": {},
     "output_type": "execute_result"
    }
   ],
   "source": [
    "1e5"
   ]
  },
  {
   "cell_type": "code",
   "execution_count": null,
   "id": "3e47f0f2",
   "metadata": {},
   "outputs": [],
   "source": []
  }
 ],
 "metadata": {
  "kernelspec": {
   "display_name": "Python 3",
   "language": "python",
   "name": "python3"
  },
  "language_info": {
   "codemirror_mode": {
    "name": "ipython",
    "version": 3
   },
   "file_extension": ".py",
   "mimetype": "text/x-python",
   "name": "python",
   "nbconvert_exporter": "python",
   "pygments_lexer": "ipython3",
   "version": "3.8.8"
  }
 },
 "nbformat": 4,
 "nbformat_minor": 5
}
